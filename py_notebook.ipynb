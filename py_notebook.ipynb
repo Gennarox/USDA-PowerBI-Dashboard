{
 "cells": [
  {
   "cell_type": "code",
   "execution_count": 1,
   "id": "bbd061fc-60f0-4aff-b185-887ab86ad2b4",
   "metadata": {},
   "outputs": [],
   "source": [
    "import pandas as pd\n",
    "from datetime import datetime\n",
    "import re"
   ]
  },
  {
   "cell_type": "code",
   "execution_count": 2,
   "id": "c9ff01b8-a87a-457d-bc85-eb8e551024fd",
   "metadata": {},
   "outputs": [],
   "source": [
    "# input the file of the dataset\n",
    "file_path = 'BiotechCropsAllTables2024.xlsx'\n",
    "xls = pd.ExcelFile(file_path)\n",
    "\n",
    "# List to store the unified data\n",
    "data = []"
   ]
  },
  {
   "cell_type": "code",
   "execution_count": 3,
   "id": "d46580d0-c72f-4b11-a308-347bd8119ac4",
   "metadata": {},
   "outputs": [],
   "source": [
    "# Iterate over each sheet\n",
    "for sheet_name in xls.sheet_names:\n",
    "    df = pd.read_excel(xls, sheet_name=sheet_name, header=None)\n",
    "    \n",
    "    # Find the rows where each table starts\n",
    "    table_starts = df[df.apply(lambda row: row.str.contains('State/Year', na=False).any(), axis=1)].index\n",
    "    \n",
    "    for start in table_starts:\n",
    "        # Get and clean the gene name\n",
    "        gene = df.iloc[start-1, 0].split('(')[0].strip()\n",
    "        \n",
    "        # Get and clean the years\n",
    "        years = df.iloc[start, 1:].values\n",
    "        years = [str(year).strip() for year in years if pd.notna(year)]\n",
    "        try:\n",
    "            years = [int(float(year)) for year in years]\n",
    "        except ValueError:\n",
    "            continue  # Skip if conversion fails\n",
    "        \n",
    "        # Get the states and adoption percentages\n",
    "        table_data = df.iloc[start+1:]\n",
    "        for i, row in table_data.iterrows():\n",
    "            state = str(row[0])\n",
    "            \n",
    "            # Skip empty or invalid rows\n",
    "            if pd.isna(state) or state.strip() == \"\":\n",
    "                break\n",
    "\n",
    "            # Clean the state name by removing disclaimers \"X/X\"\n",
    "            if state.strip() != \"United States\":\n",
    "                state = re.split(r'[\\s]', state)[0].strip()\n",
    "            else:\n",
    "                state = state.strip()\n",
    "\n",
    "            # Extract adoption percentages\n",
    "            adoption_percentages = row[1:].values\n",
    "            #adoption_percentages = int(adoption_percentages)\n",
    "            for year, adoption_percentage in zip(years, adoption_percentages):\n",
    "                if pd.notna(adoption_percentage):\n",
    "                    data.append({\n",
    "                        'gene': gene,\n",
    "                        'state': state,\n",
    "                        'crop': sheet_name,\n",
    "                        'year': year,\n",
    "                        'adoption_percentage': adoption_percentage\n",
    "                    })"
   ]
  },
  {
   "cell_type": "code",
   "execution_count": 4,
   "id": "5b723981-d592-4128-9541-5f9d15aabacc",
   "metadata": {},
   "outputs": [],
   "source": [
    "# Convert the list into a DataFrame\n",
    "result_df = pd.DataFrame(data)z\n",
    "\n",
    "# Adjust, drop the \"State/Year\" items of State col\n",
    "result_df = result_df[result_df[\"state\"]!='State/Year']\n",
    "\n",
    "# Adjust, non numeric values in percentage col\n",
    "result_df['adoption_percentage'] = pd.to_numeric(result_df['adoption_percentage'], errors='coerce')/100\n",
    "\n",
    "# Save the result to a new Excel file\n",
    "result_df.to_excel('output.xlsx', index=False)"
   ]
  }
 ],
 "metadata": {
  "kernelspec": {
   "display_name": "Python 3 (ipykernel)",
   "language": "python",
   "name": "python3"
  },
  "language_info": {
   "codemirror_mode": {
    "name": "ipython",
    "version": 3
   },
   "file_extension": ".py",
   "mimetype": "text/x-python",
   "name": "python",
   "nbconvert_exporter": "python",
   "pygments_lexer": "ipython3",
   "version": "3.9.13"
  }
 },
 "nbformat": 4,
 "nbformat_minor": 5
}
